{
  "cells": [
    {
      "cell_type": "markdown",
      "metadata": {
        "id": "83rPQhbbnwny"
      },
      "source": [
        "# Classical Mechanics I (PHYS 311)\n",
        "## Studio 1"
      ]
    },
    {
      "cell_type": "markdown",
      "metadata": {
        "id": "CSldnH5knwnz"
      },
      "source": [
        "*Name: Evan Toon*\n",
        "\n",
        "*Date: 08-22-2025*"
      ]
    },
    {
      "cell_type": "markdown",
      "metadata": {
        "id": "3VM8wAGnnwnz"
      },
      "source": [
        "## Introduction"
      ]
    },
    {
      "cell_type": "markdown",
      "metadata": {
        "id": "h2dj_dWtnwn0"
      },
      "source": [
        "Most weeks, we'll have a studio exercise in Python Jupyter Notebooks. I assume you'll have set up your accounts before starting this notebook. (If you haven't done this, please see S0 on Canvas for instructions ASAP!)\n",
        "\n",
        "This week we'll start with some notebook basics and some physics basics.\n",
        "\n",
        "**If you're new to Python**, there will be some resources on Canvas to learn the basics. But we'll take things relatively slow so you can learn as you go. There are many many resources, so make sure to take some time to use them if you're having trouble with Python. (There's even **extra credit** available for going through a python quick start course to build your understanding!)\n",
        "\n",
        "**If you're new to Notebooks**, check out [this link](https://www.dataquest.io/blog/jupyter-notebook-tutorial/). A notebook contains cells that can be executed (by hitting `shift+enter`). This can either execute code (here, Python) if the cell type is `code`. Or if you're trying to write an annotation like this one, set the type of cell to `Markdown`, and type in your Markdown and render it with `shift+enter`.\n",
        "\n",
        "It's very useful to know how to use **Markdown** (md) as it's a text formatting standard these days, adopted by most modern platforms. If you're new to it, check out [Google's guide to Markdown]( https://guides.github.com/features/mastering-markdown/). Here's a handy [Cheatsheet](https://www.markdownguide.org/cheat-sheet/).\n",
        "\n",
        "Double click this cell to see the md source \"code\". You can make things **bold**, _italics_, or make things headings by adding N pound signs at the beginning of a line. There are lists and links available. Take a look at the documentation from GitHub above for more info. Remember to re-render the md using `shift+enter`."
      ]
    },
    {
      "cell_type": "markdown",
      "metadata": {
        "id": "V4pkvB6inwn0"
      },
      "source": [
        "### Basic Setup"
      ]
    },
    {
      "cell_type": "markdown",
      "metadata": {
        "id": "hf7-y1D5nwn0"
      },
      "source": [
        "We're going to need a standard set of python tools for scientific work. An easy shorthand for this is the following line. Execute it and you will find that the notebook loads two very important libraries: `numpy` for numerical tools, and `matplotlib` for plotting and visualization. Click the following cell, and execute (`shift+enter`) it."
      ]
    },
    {
      "cell_type": "code",
      "execution_count": null,
      "metadata": {
        "id": "NS8cTr5Jnwn0"
      },
      "outputs": [],
      "source": [
        "%pylab inline"
      ]
    },
    {
      "cell_type": "markdown",
      "metadata": {
        "id": "ErOoOJDAnwn1"
      },
      "source": [
        "In this class we want to get familiar with Python and Jupyter. First of all familiarize yourself with this notebook. You can enter comments, equations, code, etc. When in a code cell, just hit `enter` to create a new line of code within the same cell. To add a new cell below your current cell, just hit `b` on your keyboard, or navigate through the menus above. Preserve the final code for submission.\n",
        "\n",
        "Try to figure out how to do the following. (Google is your friend!)"
      ]
    },
    {
      "cell_type": "markdown",
      "metadata": {
        "id": "IegQ161Cnwn1"
      },
      "source": [
        "### Python as a calculator"
      ]
    },
    {
      "cell_type": "markdown",
      "metadata": {
        "id": "0mo0mBuJnwn1"
      },
      "source": [
        "1. Calculate 2+2\n",
        "2. Calculate the sin of $\\pi$/2\n",
        "3. Calculate $4.5^4$\n",
        "\n",
        "Compute these below. Make sure the answers to each of these is visible in the output!"
      ]
    },
    {
      "cell_type": "code",
      "execution_count": null,
      "metadata": {
        "id": "qaigPzdMnwn1"
      },
      "outputs": [],
      "source": [
        "import numpy as np\n",
        "\n",
        "'Add' = 2+2\n",
        "'sin' = np.sin(np.pi / 2)\n",
        "'Exp' = 4.5 ** 4\n",
        "\n",
        "print('Add', 'sin', 'Exp')"
      ]
    },
    {
      "cell_type": "markdown",
      "metadata": {
        "id": "4DjzSCF9nwn1"
      },
      "source": [
        "### Storing information in variables / types"
      ]
    },
    {
      "cell_type": "markdown",
      "metadata": {
        "id": "TvfhlL7Cnwn1"
      },
      "source": [
        "Python is not a strongly typed programming language -- this is often very convenient but can be dangerous! If you're familiar with C/C++, this will feel pretty different."
      ]
    },
    {
      "cell_type": "code",
      "execution_count": null,
      "metadata": {
        "id": "HCcSSByKnwn1"
      },
      "outputs": [],
      "source": [
        "a='boom'\n",
        "b='bap'"
      ]
    },
    {
      "cell_type": "code",
      "execution_count": null,
      "metadata": {
        "id": "zWkSZqBInwn1"
      },
      "outputs": [],
      "source": [
        "print( type(a), type(b) )"
      ]
    },
    {
      "cell_type": "markdown",
      "metadata": {
        "id": "mRIS-L1Gnwn1"
      },
      "source": [
        "So we can see that python has infered that you wanted `a` and `b` to be `str` (string) objects without you ever having to say it explicitly. You can imagine how this may be dangerous at times."
      ]
    },
    {
      "cell_type": "markdown",
      "metadata": {
        "id": "6cyEeoEonwn2"
      },
      "source": [
        "To get documentation for anything in this notebook, just put a question mark in front of it. To learn what `type` does, do the following:"
      ]
    },
    {
      "cell_type": "code",
      "execution_count": null,
      "metadata": {
        "id": "GXyfEgj7nwn2"
      },
      "outputs": [],
      "source": [
        "?type"
      ]
    },
    {
      "cell_type": "markdown",
      "metadata": {
        "id": "Zajz7IQZnwn2"
      },
      "source": [
        "`a` and `b` both contain `str` objects now. Try concatenating them with the `+` operator:"
      ]
    },
    {
      "cell_type": "code",
      "execution_count": null,
      "metadata": {
        "id": "QdxdNygGnwn2"
      },
      "outputs": [],
      "source": [
        "a+b"
      ]
    },
    {
      "cell_type": "markdown",
      "metadata": {
        "id": "hzXws7hxnwn2"
      },
      "source": [
        "Let's try storing some numbers now:"
      ]
    },
    {
      "cell_type": "code",
      "execution_count": null,
      "metadata": {
        "id": "vKYqCmQhnwn2"
      },
      "outputs": [],
      "source": [
        "c=2\n",
        "d=2."
      ]
    },
    {
      "cell_type": "markdown",
      "metadata": {
        "id": "5b3IwJGlnwn2"
      },
      "source": [
        "What are the types of the variables `c` and `d`? Notice that we're in Python 3 (look in the upper right of your window to see the Kernel name). If you're interested, you can learn about some of the differences between Python 2 and 3 w.r.t. how these types are handled."
      ]
    },
    {
      "cell_type": "code",
      "execution_count": null,
      "metadata": {
        "id": "_yy-7Zz7nwn2"
      },
      "outputs": [],
      "source": []
    },
    {
      "cell_type": "markdown",
      "metadata": {
        "id": "IZV-dze6nwn2"
      },
      "source": [
        "The first thing we should have gone over is how to add a comment in python. Whenever there is a pound sign, `#` in your python, everything after this symbol is not processed and is a comment. **Comments are very important** when writing code -- both for communicating to others the purpose of the code, and for you to understand your code later, but also from a design perspective, they are crucial for effectively organizing your code."
      ]
    },
    {
      "cell_type": "code",
      "execution_count": null,
      "metadata": {
        "id": "92urPlMmnwn2"
      },
      "outputs": [],
      "source": [
        "a = \"This line isn't commented\" #but this stuff is\n",
        "# And so is this whole line!"
      ]
    },
    {
      "cell_type": "markdown",
      "metadata": {
        "id": "OVQKt9IAnwn2"
      },
      "source": [
        "### Lists and Arrays"
      ]
    },
    {
      "cell_type": "code",
      "execution_count": null,
      "metadata": {
        "id": "Pk3G7xP5nwn2"
      },
      "outputs": [],
      "source": [
        "%pylab inline"
      ]
    },
    {
      "cell_type": "markdown",
      "metadata": {
        "id": "btMH7glVnwn2"
      },
      "source": [
        "We can store multiple objects in a list in python."
      ]
    },
    {
      "cell_type": "code",
      "execution_count": null,
      "metadata": {
        "id": "ljqrjNAVnwn2"
      },
      "outputs": [],
      "source": [
        "myList=[3,1,4,1,5,9]\n",
        "print(myList[0]) # this will print out the first element of myList"
      ]
    },
    {
      "cell_type": "markdown",
      "metadata": {
        "id": "l1jIXB0snwn2"
      },
      "source": [
        "Access and print the last element of the list `myList`. Can you figure out a way to do this without a priori knowing how long the list is? (Google is your friend!)"
      ]
    },
    {
      "cell_type": "code",
      "execution_count": null,
      "metadata": {
        "id": "pzMnkuCwnwn3"
      },
      "outputs": [],
      "source": []
    },
    {
      "cell_type": "markdown",
      "metadata": {
        "id": "3VWGqfiTnwn3"
      },
      "source": [
        "Now set it to another number and then print out the entire object `myList`."
      ]
    },
    {
      "cell_type": "code",
      "execution_count": null,
      "metadata": {
        "id": "P70n6Wf3nwn3"
      },
      "outputs": [],
      "source": []
    },
    {
      "cell_type": "markdown",
      "metadata": {
        "id": "GioUM36lnwn3"
      },
      "source": [
        "What is the type of `myList`?"
      ]
    },
    {
      "cell_type": "code",
      "execution_count": null,
      "metadata": {
        "id": "NSZmt94rnwn3"
      },
      "outputs": [],
      "source": []
    },
    {
      "cell_type": "markdown",
      "metadata": {
        "id": "DvZB5PkCnwn3"
      },
      "source": [
        "There is a very similar structure given by `numpy` called the `ndarray` which is an array type. We'll see it shortly."
      ]
    },
    {
      "cell_type": "markdown",
      "metadata": {
        "id": "lYIK3clVnwn3"
      },
      "source": [
        "### Plotting data"
      ]
    },
    {
      "cell_type": "markdown",
      "metadata": {
        "id": "1w6r9dt-nwn3"
      },
      "source": [
        "We are loading some libraries that will let us plot things and that will let us do more complicated mathematical things."
      ]
    },
    {
      "cell_type": "code",
      "execution_count": null,
      "metadata": {
        "id": "MhXXfUCynwn8"
      },
      "outputs": [],
      "source": [
        "%pylab inline"
      ]
    },
    {
      "cell_type": "markdown",
      "metadata": {
        "id": "PqI5EJGonwn8"
      },
      "source": [
        "In python, we plot data points. That means that we need to generate 2 vectors of equal length. One contains the x-values and the second one the y-values."
      ]
    },
    {
      "cell_type": "code",
      "execution_count": null,
      "metadata": {
        "id": "pROR71e9nwn8"
      },
      "outputs": [],
      "source": [
        "vector_list = list( range(1, 10, 1) )\n",
        "vector_list"
      ]
    },
    {
      "cell_type": "code",
      "execution_count": null,
      "metadata": {
        "id": "NmIg0l1Anwn8"
      },
      "outputs": [],
      "source": [
        "?range"
      ]
    },
    {
      "cell_type": "code",
      "execution_count": null,
      "metadata": {
        "id": "fTeQkYRvnwn9"
      },
      "outputs": [],
      "source": [
        "vector_array = arange(1, 10, 1)\n",
        "vector_array"
      ]
    },
    {
      "cell_type": "code",
      "execution_count": null,
      "metadata": {
        "id": "zO5NQURunwn9"
      },
      "outputs": [],
      "source": [
        "?arange"
      ]
    },
    {
      "cell_type": "markdown",
      "metadata": {
        "id": "AMBOFf3fnwn9"
      },
      "source": [
        "Now we're going to create a custom python function to represent the function we'd like to plot."
      ]
    },
    {
      "cell_type": "code",
      "execution_count": null,
      "metadata": {
        "id": "OChnnavLnwn9"
      },
      "outputs": [],
      "source": [
        "def squared(x):\n",
        "    squared = x*x\n",
        "    return squared"
      ]
    },
    {
      "cell_type": "markdown",
      "metadata": {
        "id": "FQJucrGJnwn9"
      },
      "source": [
        "You can now use this function `squared()` to square things! Give it a shot by squaring some number:"
      ]
    },
    {
      "cell_type": "code",
      "execution_count": null,
      "metadata": {
        "id": "_JOGp3k3nwn9"
      },
      "outputs": [],
      "source": []
    },
    {
      "cell_type": "markdown",
      "metadata": {
        "id": "7fmcmr6xnwn9"
      },
      "source": [
        "Now we're about to see a crucial difference between python's built-in `list` type and `numpy`'s more powerful `ndarray`. What happens when you try to feed `vector_list` into this new function? What about when you hand it `vector_array`? Find something that works and store it in a new variable."
      ]
    },
    {
      "cell_type": "code",
      "execution_count": null,
      "metadata": {
        "id": "PqFS0ZJUnwn9"
      },
      "outputs": [],
      "source": []
    },
    {
      "cell_type": "markdown",
      "metadata": {
        "id": "TXE4v1WDnwn9"
      },
      "source": [
        "We can quickly plot the data points you've just calculated with the `plot` command (provided by pylab). Remember to use `?plot` for more information. Basically, you want to run `plot(x,y)` where your `x` and `y` are array objects (or can be list objects in principle). An optional third argument takes a string that defines the draw style. Try out using `o-` for a circle at each point and a line conecting the points.\n",
        "\n",
        "Don't forget to label your axes. Always always always label axes!!! In the same cell as your plot command, try out the `xlabel()` and `ylabel()` commands.\n",
        "\n",
        "Remember that we're looking for a plot of f(x) on the y axis, and x on the x axis. How should you call the `plot()` function here?"
      ]
    },
    {
      "cell_type": "code",
      "execution_count": null,
      "metadata": {
        "id": "of-c7tNhnwn9"
      },
      "outputs": [],
      "source": []
    },
    {
      "cell_type": "markdown",
      "metadata": {
        "id": "T_wCdfConwn9"
      },
      "source": [
        "Now go ahead and make a new function that computes the sine of the input, and plot it! (Careful with what you call your new function to make sure it doesn't clash with other already-defined functions!)"
      ]
    },
    {
      "cell_type": "code",
      "execution_count": null,
      "metadata": {
        "id": "88dB1Vhdnwn-"
      },
      "outputs": [],
      "source": []
    },
    {
      "cell_type": "markdown",
      "metadata": {
        "collapsed": true,
        "id": "VkO6-LEGnwn-"
      },
      "source": [
        "Notice that our sampling is quite low (only 10 points). Try playing around to get these functions samples with 100 points to get a higher resolution representation of these functions.\n",
        "\n",
        "Search the `matplotlib` manual and figure out more ways to plot the data. Add a title to the figure!"
      ]
    },
    {
      "cell_type": "markdown",
      "metadata": {
        "id": "9yKuhQFTnwn-"
      },
      "source": [
        "**EC(+0.5) [\"For +0.5 extra credit -- feel free to skip!\"]: Add a cell below this and plot three different functions on the same axis with three different line styles. Make sure to label your axes and draw a legend!**"
      ]
    },
    {
      "cell_type": "markdown",
      "metadata": {
        "id": "donYLODrnwn-"
      },
      "source": [
        "### Defining a function"
      ]
    },
    {
      "cell_type": "markdown",
      "metadata": {
        "id": "KFQrC4YVnwn-"
      },
      "source": [
        "Define your own function that converts Fahrenheit into Celsius and show that it works for a few input values."
      ]
    },
    {
      "cell_type": "code",
      "execution_count": null,
      "metadata": {
        "id": "liDh6djbnwn-"
      },
      "outputs": [],
      "source": []
    },
    {
      "cell_type": "markdown",
      "metadata": {
        "id": "hvY_Uyj8nwn-"
      },
      "source": [
        "### Conditionals"
      ]
    },
    {
      "cell_type": "markdown",
      "metadata": {
        "id": "9VlAw8Punwn-"
      },
      "source": [
        "There are various ways of steering the logic of a program. Remember that fundamentally, a program executes in a logical order. Normally if you were writing a script from scratch, you would read the logic from top to bottom. Notebooks violate this a little bit and allow you to execute things in strange orders, but you should try to organize your thoughts from top to bottom.\n",
        "\n",
        "Let's start with a simple `if` statement. The syntax for such statements is pretty particular in python."
      ]
    },
    {
      "cell_type": "code",
      "execution_count": null,
      "metadata": {
        "id": "rSkwbTVPnwn-"
      },
      "outputs": [],
      "source": [
        "a = True\n",
        "aIsTrue = False\n",
        "if a == True:\n",
        "    aIsTrue = True"
      ]
    },
    {
      "cell_type": "markdown",
      "metadata": {
        "id": "S66ENe59nwn-"
      },
      "source": [
        "Note the whitespace that represents being \"inside\" the `if` statement. Here it's four spaces (and that was acheived by just hitting `tab` on your keyboard). Python doesn't actually care how much whitespace there is, but it *does* care that you stay consistent with your indentation levels."
      ]
    },
    {
      "cell_type": "markdown",
      "metadata": {
        "id": "mPVzFRJHnwn-"
      },
      "source": [
        "You can also ask about the alternative with `else`, or even additional alternate scenarios with intermediate `elif` commands. (You may be familiar with `else if` in C/C++, but python has a specific symbol for this command.)"
      ]
    },
    {
      "cell_type": "code",
      "execution_count": null,
      "metadata": {
        "id": "Q0fxL8Hhnwn-"
      },
      "outputs": [],
      "source": [
        "a = 0\n",
        "if a > 0:\n",
        "    description = \"positive\"\n",
        "elif a < 0:\n",
        "    description = \"negative\"\n",
        "else:\n",
        "    description = \"zero\"\n",
        "print(\"a is \" + description)"
      ]
    },
    {
      "cell_type": "markdown",
      "metadata": {
        "id": "mAhvfIKHnwn-"
      },
      "source": [
        "Write a quick function to take in a number grade that returns a string containing the appropriate letter grade A,B,C,D, or F, using the standard grade boundaries. And then test it with a grade. This will be your final course grade. (No - not really.)"
      ]
    },
    {
      "cell_type": "code",
      "execution_count": null,
      "metadata": {
        "id": "jv0OqvmDnwn-"
      },
      "outputs": [],
      "source": []
    },
    {
      "cell_type": "markdown",
      "metadata": {
        "id": "AyXKkKuGnwn-"
      },
      "source": [
        "### Loops"
      ]
    },
    {
      "cell_type": "markdown",
      "metadata": {
        "id": "zPA27t2_nwn-"
      },
      "source": [
        "#### The for-loop"
      ]
    },
    {
      "cell_type": "markdown",
      "metadata": {
        "id": "sc-YFiZInwn-"
      },
      "source": [
        "There are two ways to make the computer do things repeatedly. The first one we will discuss is the for-loop."
      ]
    },
    {
      "cell_type": "code",
      "execution_count": null,
      "metadata": {
        "id": "NOpYLkRvnwn_"
      },
      "outputs": [],
      "source": [
        "vector1 = arange(1,10,0.5)\n",
        "vector2 = arange(1,10,0.5)\n",
        "for i in range(len(vector1)):\n",
        "    vector2[i] = vector1[i]*vector1[i]"
      ]
    },
    {
      "cell_type": "code",
      "execution_count": null,
      "metadata": {
        "id": "V4n5BC2jnwn_"
      },
      "outputs": [],
      "source": [
        "plot(vector1,vector2)"
      ]
    },
    {
      "cell_type": "markdown",
      "metadata": {
        "id": "pZkkCOSQnwn_"
      },
      "source": [
        "#### The while loop"
      ]
    },
    {
      "cell_type": "markdown",
      "metadata": {
        "id": "bUhj8CTqnwn_"
      },
      "source": [
        "Look it up. It's a dangerous loop. We hopefully won't need it in this class, but it's important for you to know about. Essentially it repeats its contents until it's argument is false. (Just like in other languages.)"
      ]
    },
    {
      "cell_type": "markdown",
      "metadata": {
        "id": "gVT4RBnEnwn_"
      },
      "source": [
        "### Reading data"
      ]
    },
    {
      "cell_type": "markdown",
      "metadata": {
        "id": "dcg0fQxSnwn_"
      },
      "source": [
        "Download the data file 'http://folk.uio.no/malthe/mechbook/100m.d ' and copy into the variable `data`. I suggest that you make an extra folder in your home directory called `data` and put this file in there. You'll use the `loadtxt` function which you should give the path to this new file relative to the location of this notebook."
      ]
    },
    {
      "cell_type": "code",
      "execution_count": null,
      "metadata": {
        "id": "3uZPgphpnwn_"
      },
      "outputs": [],
      "source": [
        "data = loadtxt('data/100m.d')"
      ]
    },
    {
      "cell_type": "code",
      "execution_count": null,
      "metadata": {
        "id": "eXM4Bpe_nwn_"
      },
      "outputs": [],
      "source": [
        "data"
      ]
    },
    {
      "cell_type": "markdown",
      "metadata": {
        "id": "CmuSvsnznwn_"
      },
      "source": [
        "Explore the data variable that you generated. How many data points are in this file?"
      ]
    },
    {
      "cell_type": "code",
      "execution_count": null,
      "metadata": {
        "id": "hpz8pbj8nwn_"
      },
      "outputs": [],
      "source": []
    },
    {
      "cell_type": "markdown",
      "metadata": {
        "id": "aXwGfDZmnwn_"
      },
      "source": [
        "Now it's important to know how to access different elements of an array like this. Here we have $N$ elements (where $N$ is the answer directly above) of our dataset, with each element being an array of two numbers. If I want to only take the first 10 elements, I can use the notation `data[0:10]` and that returns the subset. I could have also left the `0` implicit with just a `data[:10]`. If you want from the 10th element to the end, you could do `data[10:len(data)]`. Again you could have left the end implicit and it would have gone to the end with `data[10:]`. Try it -- get the 10th through 20th element (including the 20th) of this array:"
      ]
    },
    {
      "cell_type": "code",
      "execution_count": null,
      "metadata": {
        "id": "IVwY4NY8nwn_"
      },
      "outputs": [],
      "source": []
    },
    {
      "cell_type": "markdown",
      "metadata": {
        "id": "Aw-0-hqqnwn_"
      },
      "source": [
        "You should have 11 elements in this array. Do you? If not, try again."
      ]
    },
    {
      "cell_type": "markdown",
      "metadata": {
        "id": "CDqY8kTGnwn_"
      },
      "source": [
        "You might say -- \"Oh but how do I deal with the internal array contained in each element?\" and that would be very astute of you. Luckily for you and for us all (I'm getting loopy because it's a Friday night) `numpy` gives a handy way of accessing this with a comma.\n",
        "\n",
        "If I want an array with just the first number in the first ten elements of `data`, I could do `data[:10,0]`. Give it a shot! I can also ask for the first element of all of the elements: `data[:,0]` (here leaving both the start and end of the first index implicit).\n",
        "\n",
        "Just to be explicit, `data[:10,0]` (or equally `data[0:10,0]`) would mean \"take the first 11 elements of `data`, each of which is another array, then only give me the first element of each of *those*\". The output should be an 11-element 1D array, whereas the input is a 2D array (it needs two indices to get to a single value).\n",
        "\n",
        "Below, get an array containing just the second number in each of these data points:"
      ]
    },
    {
      "cell_type": "code",
      "execution_count": null,
      "metadata": {
        "id": "3lEV5lbInwn_"
      },
      "outputs": [],
      "source": []
    },
    {
      "cell_type": "markdown",
      "metadata": {
        "id": "X9WSW9s7nwn_"
      },
      "source": [
        "Plot all the data that you downloaded. Let's treat the first column as the x axis values, and the second as the y axis values."
      ]
    },
    {
      "cell_type": "code",
      "execution_count": null,
      "metadata": {
        "id": "qk70XmsBnwn_"
      },
      "outputs": [],
      "source": []
    },
    {
      "cell_type": "markdown",
      "metadata": {
        "id": "EjRgQldpnwn_"
      },
      "source": [
        "### Numerical Derivatives"
      ]
    },
    {
      "cell_type": "markdown",
      "metadata": {
        "id": "cxGIaxL7nwn_"
      },
      "source": [
        "We discussed how position $x(t)$, velocity $v(t)$ and acceleration are related.\n",
        "$$v(t) = \\frac{\\hbox{d} x(t)}{\\hbox{d} t}~,$$\n",
        "$$ a(t) = \\frac{\\hbox{d} v(t)}{\\hbox{d} t}~.$$\n",
        "In textbook problems, we can simply take the derivative but for the data that we just plotted we need to take a numerical derivative. Calculate the numerical derivative for the data that we imported."
      ]
    },
    {
      "cell_type": "code",
      "execution_count": null,
      "metadata": {
        "id": "ljUk--Jpnwn_"
      },
      "outputs": [],
      "source": [
        "def derivative(data_array):\n",
        "    delta_x = 0.\n",
        "    delta_t = 0.\n",
        "    derivative_array = zeros(len(data_array))\n",
        "    for i in range(len(data_array)-1):\n",
        "        delta_x = data[i+1,1]-data[i,1]\n",
        "        delta_t = data[i+1,0]-data[i,0]\n",
        "        derivative_array[i] = delta_x/delta_t\n",
        "\n",
        "\n",
        "    return derivative_array"
      ]
    },
    {
      "cell_type": "markdown",
      "metadata": {
        "id": "_t8f0p98nwoA"
      },
      "source": [
        "Take the derivative of the data you plotted from the last section. Let's interpret that data as the position (`data[:,1]`) as a function of the sampling times (`data[:,0]`). So the plot you made above is position (y-axis) as a function of time (x-axis). Find an array containing the velocity as a function of time."
      ]
    },
    {
      "cell_type": "code",
      "execution_count": null,
      "metadata": {
        "id": "a7cbV_2mnwoA"
      },
      "outputs": [],
      "source": []
    },
    {
      "cell_type": "markdown",
      "metadata": {
        "id": "pCmQx9zrnwoA"
      },
      "source": [
        "Great! Now that you have a new array containing the derivative, **let's plot that**! Then we should be looking at the *velocity* of this object! Remember that the derivative will be a new set of y values, but you should be able to plot against the same original x values (`data[:,0]`)."
      ]
    },
    {
      "cell_type": "code",
      "execution_count": null,
      "metadata": {
        "id": "y3BRE4dKnwoA"
      },
      "outputs": [],
      "source": []
    },
    {
      "cell_type": "markdown",
      "metadata": {
        "id": "nx1uyzpInwoA"
      },
      "source": [
        "Try plotting both the original values (the position) and the first derivative (the velocity) on the same plot!"
      ]
    },
    {
      "cell_type": "code",
      "execution_count": null,
      "metadata": {
        "id": "SMs4NamjnwoA"
      },
      "outputs": [],
      "source": []
    },
    {
      "cell_type": "markdown",
      "metadata": {
        "id": "6X1GqvYCnwoA"
      },
      "source": [
        "**EC(+0.5): If you have time at the end, come back here and try to show (numerically) how the exponential function `exp(x)` is related to its derivative.**"
      ]
    },
    {
      "cell_type": "markdown",
      "metadata": {
        "id": "Sfoy08ZmnwoA"
      },
      "source": [
        "### Riemann Integral"
      ]
    },
    {
      "cell_type": "markdown",
      "metadata": {
        "id": "zAWlO3g2nwoA"
      },
      "source": [
        "In addition to numerical differentiation, let's also try a numerical integral. Remember that an integral is just the area under a curve. So you'll remember that there are geometrical methods to arrive at numerical approximations for integrals -- and this is what's done in practice in computation a lot. So let's use a simple Riemannian method of adding rectangles together."
      ]
    },
    {
      "cell_type": "code",
      "execution_count": null,
      "metadata": {
        "scrolled": true,
        "id": "TGDcU5jCnwoA"
      },
      "outputs": [],
      "source": [
        "def f(x):\n",
        "    return x\n",
        "\n",
        "\n",
        "rangeStart = 0; rangeEnd = 10; nRectangles = 30\n",
        "nSmooth = 10*nRectangles # for drawing a (seemingly) smooth curve.\n",
        "\n",
        "# This will give us a very coarse sampling of this function -> a bunch of rectangles with\n",
        "# width (rangeEnd-rangeStart)/nRectangles\n",
        "\n",
        "x = linspace(rangeStart,rangeEnd,nRectangles+1)\n",
        "y = f(x)\n",
        "w = (rangeEnd-rangeStart)/nRectangles\n",
        "\n",
        "# This will give us the data point for our continuous version of the function. Let's say this is\n",
        "# Effectively infinitly sampled.\n",
        "\n",
        "X = linspace(rangeStart,rangeEnd,nSmooth+1)\n",
        "Y = f(X)\n",
        "\n",
        "# This plots the \"true\" function.\n",
        "plot(X,Y)\n",
        "\n",
        "# This shows the markers\n",
        "plot(x,y,'b.',markersize=10)\n",
        "\n",
        "# This will show the actual rectangle's we'll use in approximating this integral.\n",
        "bar(x,y,width=w,alpha=0.2,align='edge',edgecolor='b')\n",
        "\n",
        "title('Left Riemann Sum, N = {}'.format(nRectangles))"
      ]
    },
    {
      "cell_type": "markdown",
      "metadata": {
        "id": "BSwKMAGBnwoA"
      },
      "source": [
        "If we want to take the integral, we just need to sum up the areas of those rectangles. (Notice, we should remove the last one if we're looking for the integral between 0 and 10 here. We can do that using a negative syntax. While `x[:]` will return all of `x`, if you do `x[:-1]` it'll give all of `x` except the last element. `x[:-2]` gives all but the last two, etc etc etc.)"
      ]
    },
    {
      "cell_type": "code",
      "execution_count": null,
      "metadata": {
        "id": "DRLv_0ZfnwoA"
      },
      "outputs": [],
      "source": [
        "def integrate(heights, width): #give it an array of heights and then a single float with the width of each rectangle.\n",
        "    arrayOfAreas = heights*width # This is a number times an array, so it returns an array\n",
        "    return sum(arrayOfAreas) # This sums over these elements to give a number as an output.\n",
        "\n",
        "integrate(x[:-1],w)"
      ]
    },
    {
      "cell_type": "markdown",
      "metadata": {
        "id": "7jXm3UKUnwoA"
      },
      "source": [
        "This `integrate` function is adding together areas of rectangles. And you can see in the region between 0 and 10, the rectangles miss a little bit (that white triangle at the top). So we expect this number to **underestimate** the correct answer. On paper, analytically calculate the correct answer for this function between 0 and 10. How does it compare to this answer?"
      ]
    },
    {
      "cell_type": "code",
      "execution_count": null,
      "metadata": {
        "id": "cazHlB1BnwoA"
      },
      "outputs": [],
      "source": []
    },
    {
      "cell_type": "markdown",
      "metadata": {
        "id": "EBR6Kp3onwoA"
      },
      "source": [
        "Now try playing with the `nRectangles` parameter above to see what raising and lowering it does to the integral. (Remember that you can go back up and edit and re-execute cells.)"
      ]
    },
    {
      "cell_type": "code",
      "execution_count": null,
      "metadata": {
        "id": "YhWS07lxnwoA"
      },
      "outputs": [],
      "source": []
    },
    {
      "cell_type": "markdown",
      "metadata": {
        "id": "fOsULAdZnwoB"
      },
      "source": [
        "**EC(+0.5): If you still have time, try this again with a function and interval of your choice. Take any function, and approximate its integral in some range of your choosing.**"
      ]
    }
  ],
  "metadata": {
    "interpreter": {
      "hash": "9deafd394aff8b6cb6c0144de6e8b26f30e2c4e8480b925f227d21668087d7c6"
    },
    "kernelspec": {
      "display_name": "Python 3",
      "language": "python",
      "name": "python3"
    },
    "language_info": {
      "codemirror_mode": {
        "name": "ipython",
        "version": 3
      },
      "file_extension": ".py",
      "mimetype": "text/x-python",
      "name": "python",
      "nbconvert_exporter": "python",
      "pygments_lexer": "ipython3",
      "version": "3.8.8"
    },
    "toc": {
      "base_numbering": 1,
      "nav_menu": {},
      "number_sections": true,
      "sideBar": true,
      "skip_h1_title": false,
      "title_cell": "Table of Contents",
      "title_sidebar": "Contents",
      "toc_cell": false,
      "toc_position": {},
      "toc_section_display": true,
      "toc_window_display": false
    },
    "varInspector": {
      "cols": {
        "lenName": 16,
        "lenType": 16,
        "lenVar": 40
      },
      "kernels_config": {
        "python": {
          "delete_cmd_postfix": "",
          "delete_cmd_prefix": "del ",
          "library": "var_list.py",
          "varRefreshCmd": "print(var_dic_list())"
        },
        "r": {
          "delete_cmd_postfix": ") ",
          "delete_cmd_prefix": "rm(",
          "library": "var_list.r",
          "varRefreshCmd": "cat(var_dic_list()) "
        }
      },
      "types_to_exclude": [
        "module",
        "function",
        "builtin_function_or_method",
        "instance",
        "_Feature"
      ],
      "window_display": false
    },
    "colab": {
      "provenance": []
    }
  },
  "nbformat": 4,
  "nbformat_minor": 0
}